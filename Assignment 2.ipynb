{
 "cells": [
  {
   "cell_type": "code",
   "execution_count": 1,
   "id": "9b1b8040",
   "metadata": {},
   "outputs": [
    {
     "name": "stdout",
     "output_type": "stream",
     "text": [
      "Python:Exercises::PHP:exercises:\n"
     ]
    }
   ],
   "source": [
    "import re\n",
    "text = 'Python Exercises, PHP exercises.'\n",
    "print(re.sub(\"[ ,.]\", \":\", text))"
   ]
  },
  {
   "cell_type": "code",
   "execution_count": 2,
   "id": "a1aa1fa0",
   "metadata": {},
   "outputs": [
    {
     "name": "stdout",
     "output_type": "stream",
     "text": [
      "         SUMMARY\n",
      "0    hello world\n",
      "1      XXXX test\n",
      "2  four five six\n"
     ]
    }
   ],
   "source": [
    "import pandas as pd\n",
    "data ={'SUMMARY': ['hello, world!','XXXX test', '123four, five;: six...']}\n",
    "df = pd.DataFrame(data)\n",
    "df['SUMMARY'] = df['SUMMARY'].str.replace('[^a-zA-Z\\s]', '' , regex = True)\n",
    "print(df)"
   ]
  },
  {
   "cell_type": "code",
   "execution_count": 3,
   "id": "d3fdf9a6",
   "metadata": {},
   "outputs": [
    {
     "name": "stdout",
     "output_type": "stream",
     "text": [
      "['This', 'favourite', 'cream']\n"
     ]
    }
   ],
   "source": [
    "import re\n",
    "text ='This is my favourite Ice-cream.'\n",
    "print(re.findall(r\"\\b\\w{4,}\\b\", text))"
   ]
  },
  {
   "cell_type": "code",
   "execution_count": 5,
   "id": "f9dfa97f",
   "metadata": {},
   "outputs": [
    {
     "name": "stdout",
     "output_type": "stream",
     "text": [
      "['This', 'place', 'calm', 'and']\n"
     ]
    }
   ],
   "source": [
    "import re\n",
    "text ='This place is so calm and greenary.'\n",
    "print(re.findall(r\"\\b\\w{3,5}\\b\", text))"
   ]
  },
  {
   "cell_type": "code",
   "execution_count": 6,
   "id": "895990b6",
   "metadata": {},
   "outputs": [
    {
     "name": "stdout",
     "output_type": "stream",
     "text": [
      "example\n",
      "hr@fliprobo\n",
      "github\n",
      "Hello\n",
      "Data\n"
     ]
    }
   ],
   "source": [
    "import re\n",
    "items = [\"example (.com)\", \"hr@fliprobo(.com)\", \"github(.com)\", \"Hello(Data Science World)\", \"Data(Scientist)\"]\n",
    "for item in items:\n",
    "    print(re.sub(r\" ?\\([^)]+\\)\",\"\",item))"
   ]
  },
  {
   "cell_type": "code",
   "execution_count": 8,
   "id": "bb4412ec",
   "metadata": {},
   "outputs": [
    {
     "name": "stdout",
     "output_type": "stream",
     "text": [
      "['Importance', 'Of', 'Regular', 'Expressions', 'In', 'Python']\n"
     ]
    }
   ],
   "source": [
    "import re\n",
    "text = \"ImportanceOfRegularExpressionsInPython\"\n",
    "print(re.findall('[A-Z][^A-Z]*', text))"
   ]
  },
  {
   "cell_type": "code",
   "execution_count": 9,
   "id": "764e36fc",
   "metadata": {},
   "outputs": [
    {
     "name": "stdout",
     "output_type": "stream",
     "text": [
      "RegularExpression 1IsAn 2ImportantTopic 3InPython\n"
     ]
    }
   ],
   "source": [
    "import re\n",
    "def insert_spaces(text):\n",
    "    pattern = r'(\\d+)([A-Za-z]+)'\n",
    "    result = re.sub(pattern,r' \\1\\2',text)\n",
    "    return result\n",
    "text =\"RegularExpression1IsAn2ImportantTopic3InPython\"\n",
    "output = insert_spaces(text)\n",
    "print(output)"
   ]
  },
  {
   "cell_type": "code",
   "execution_count": 10,
   "id": "3afe6b63",
   "metadata": {},
   "outputs": [
    {
     "name": "stdout",
     "output_type": "stream",
     "text": [
      "The original string is: RegularExpression1IsAn2ImportantTopic3InPython\n",
      "The space added string :RegularExpression 1 IsAn 2 ImportantTopic 3 InPython\n"
     ]
    }
   ],
   "source": [
    "import re\n",
    "text = \"RegularExpression1IsAn2ImportantTopic3InPython\"\n",
    "print(\"The original string is: \"+ str(text))\n",
    "for i in text:\n",
    "    if i.isdigit():\n",
    "        text = text.replace(i,\" \"+i+\" \")\n",
    "res=text\n",
    "print(\"The space added string :\" +str(res))\n",
    "\n"
   ]
  },
  {
   "cell_type": "code",
   "execution_count": 11,
   "id": "3836bbb3",
   "metadata": {},
   "outputs": [],
   "source": [
    "import pandas as pd\n",
    "url = \"https://raw.githubusercontent.com/dsrscientist/DSData/master/happiness_score_dataset.csv\"\n",
    "df = pd.read_csv(url)\n",
    "df['first_six_letters'] = df['Country'].apply(lambda x:x[:7])"
   ]
  },
  {
   "cell_type": "code",
   "execution_count": 13,
   "id": "1ed0c474",
   "metadata": {},
   "outputs": [
    {
     "name": "stdout",
     "output_type": "stream",
     "text": [
      "Match not found\n",
      "Match found\n"
     ]
    }
   ],
   "source": [
    "import re\n",
    "def text_match(text):\n",
    "    patterns = '^[a-zA-Z0-9_]*$'\n",
    "    if re.search(patterns,text):\n",
    "        return('Match found')\n",
    "    else:\n",
    "        return('Match not found')\n",
    "print(text_match(\"This is my home.\"))\n",
    "print(text_match(\"Maths_Table_1\"))\n"
   ]
  },
  {
   "cell_type": "code",
   "execution_count": 14,
   "id": "6db03e4b",
   "metadata": {},
   "outputs": [
    {
     "name": "stdout",
     "output_type": "stream",
     "text": [
      "True\n",
      "False\n"
     ]
    }
   ],
   "source": [
    "import re\n",
    "def match_num(string):\n",
    "    text = re.compile(r\"^5\")\n",
    "    if text.match(string):\n",
    "        return True\n",
    "    else:\n",
    "        return False\n",
    "print(match_num('57789'))\n",
    "print(match_num('98766'))"
   ]
  },
  {
   "cell_type": "code",
   "execution_count": 15,
   "id": "d541f189",
   "metadata": {},
   "outputs": [
    {
     "name": "stdout",
     "output_type": "stream",
     "text": [
      "598.9.76.678\n"
     ]
    }
   ],
   "source": [
    "import re\n",
    "ip = \"598.09.076.678\"\n",
    "String = re.sub('\\.[0]*', '.',ip)\n",
    "print(String)\n"
   ]
  },
  {
   "cell_type": "code",
   "execution_count": 16,
   "id": "93efd1d6",
   "metadata": {},
   "outputs": [
    {
     "name": "stdout",
     "output_type": "stream",
     "text": [
      "August 15th 1947\n"
     ]
    }
   ],
   "source": [
    "import re\n",
    "text =\"On August 15th 1947 that India was declared independent from Bristish colonialism, and the reins of control were handed over to the leaders of the Country.\"\n",
    "pattern = r\"\\b([A-Z][a-z]+ \\d{1,2}(?:st|nd|rd|th)? \\d{4})\\b\"\n",
    "matches = re.findall(pattern,text)\n",
    "date_string = matches[0] if matches else None\n",
    "print(date_string)"
   ]
  },
  {
   "cell_type": "code",
   "execution_count": 17,
   "id": "42c0d021",
   "metadata": {},
   "outputs": [
    {
     "name": "stdout",
     "output_type": "stream",
     "text": [
      "Searching for \"fox\" in \"The quick brown fox jumps over the lazy dog.\" ->\n",
      "Matched\n",
      "Searching for \"dog\" in \"The quick brown fox jumps over the lazy dog.\" ->\n",
      "Matched\n",
      "Searching for \"horse\" in \"The quick brown fox jumps over the lazy dog.\" ->\n",
      "Not Matched\n"
     ]
    }
   ],
   "source": [
    "import re\n",
    "patterns = ['fox','dog','horse']\n",
    "text = 'The quick brown fox jumps over the lazy dog.'\n",
    "for pattern in patterns:\n",
    "    print('Searching for \"%s\" in \"%s\" ->' %(pattern, text),)\n",
    "    if re.search(pattern,text):\n",
    "        print('Matched')\n",
    "    else:\n",
    "            print('Not Matched')"
   ]
  },
  {
   "cell_type": "code",
   "execution_count": 18,
   "id": "a1c5d9c6",
   "metadata": {},
   "outputs": [
    {
     "name": "stdout",
     "output_type": "stream",
     "text": [
      "Found \"fox\" in \"The quick brown fox jumps over the lazy dog\" from 16 to 19 \n"
     ]
    }
   ],
   "source": [
    "import re\n",
    "pattern = 'fox'\n",
    "text = \"The quick brown fox jumps over the lazy dog\"\n",
    "match = re.search(pattern,text)\n",
    "s = match.start()\n",
    "e = match.end()\n",
    "print('Found \"%s\" in \"%s\" from %d to %d ' % \\\n",
    "      (match.re.pattern,match.string, s , e))\n"
   ]
  },
  {
   "cell_type": "code",
   "execution_count": 19,
   "id": "e7f1b5e2",
   "metadata": {},
   "outputs": [
    {
     "name": "stdout",
     "output_type": "stream",
     "text": [
      "Found \"exercises\"\n",
      "Found \"exercises\"\n",
      "Found \"exercises\"\n"
     ]
    }
   ],
   "source": [
    "import re\n",
    "text = 'Python exercises,PHP exercises,C# exercises'\n",
    "pattern = 'exercises'\n",
    "for match in re.findall(pattern,text):\n",
    "    print('Found \"%s\"' % match)"
   ]
  },
  {
   "cell_type": "code",
   "execution_count": 20,
   "id": "28033188",
   "metadata": {},
   "outputs": [
    {
     "name": "stdout",
     "output_type": "stream",
     "text": [
      "Found \"exercises\" at 7:16\n",
      "Found \"exercises\" at 21:30\n",
      "Found \"exercises\" at 34:43\n"
     ]
    }
   ],
   "source": [
    "import re\n",
    "text = 'Python exercises,PHP exercises,C# exercises'\n",
    "pattern = 'exercises' \n",
    "for match in re.finditer(pattern,text):\n",
    "    s = match.start()\n",
    "    e = match.end()\n",
    "    print('Found \"%s\" at %d:%d' % (text[s:e], s,e))\n",
    "    "
   ]
  },
  {
   "cell_type": "code",
   "execution_count": 21,
   "id": "e9dc5ea6",
   "metadata": {},
   "outputs": [
    {
     "name": "stdout",
     "output_type": "stream",
     "text": [
      "Original date in YYY-MM-DD Format: 2026-06-16\n",
      "New date in DD-MM-YYYY Format: 16-06-2026\n"
     ]
    }
   ],
   "source": [
    "import re\n",
    "def change_date_format(date):\n",
    "    return re.sub(r'(\\d{4})-(\\d{1,2})-(\\d{1,2})', '\\\\3-\\\\2-\\\\1',date)\n",
    "date1 = \"2026-06-16\"\n",
    "print(\"Original date in YYY-MM-DD Format:\",date1)\n",
    "print(\"New date in DD-MM-YYYY Format:\",change_date_format(date1))"
   ]
  },
  {
   "cell_type": "code",
   "execution_count": 22,
   "id": "1394d3dd",
   "metadata": {},
   "outputs": [
    {
     "name": "stdout",
     "output_type": "stream",
     "text": [
      "['01.12', '145.8', '3.01', '27.25', '0.25']\n"
     ]
    }
   ],
   "source": [
    "import re\n",
    "def find_decimal_numbers(string):\n",
    "    pattern =re.compile(r'\\d+\\.\\d{1,2}')\n",
    "    decimal_numbers = re.findall(pattern,string)\n",
    "    return decimal_numbers\n",
    "sample_text = \"01.12 0132. 123 2. 31875 145.8 3.01 27.25 0.25\"\n",
    "output = find_decimal_numbers(sample_text)\n",
    "print(output)"
   ]
  },
  {
   "cell_type": "code",
   "execution_count": 23,
   "id": "b1472080",
   "metadata": {},
   "outputs": [
    {
     "name": "stdout",
     "output_type": "stream",
     "text": [
      "20\n",
      "Index position: 10\n"
     ]
    }
   ],
   "source": [
    "import re\n",
    "text = \"There are 20  beautiful ladies \"\n",
    "for m in re.finditer(\"\\d+\",text):\n",
    "    print(m.group(0))\n",
    "    print(\"Index position:\", m.start())"
   ]
  },
  {
   "cell_type": "code",
   "execution_count": 24,
   "id": "5008bb7f",
   "metadata": {},
   "outputs": [
    {
     "name": "stdout",
     "output_type": "stream",
     "text": [
      "950\n"
     ]
    }
   ],
   "source": [
    "import re\n",
    "sample_text = 'My marks in each semester are: 947,896,926,524,734,950,642'\n",
    "values = re.findall(r'\\d+', sample_text)\n",
    "values = [int(value) for value in values]\n",
    "max_value = max(values)\n",
    "print(max_value)"
   ]
  },
  {
   "cell_type": "code",
   "execution_count": 25,
   "id": "e7ff55be",
   "metadata": {},
   "outputs": [
    {
     "name": "stdout",
     "output_type": "stream",
     "text": [
      "Regular Expression Is An Important Topic Python\n"
     ]
    }
   ],
   "source": [
    "import re\n",
    "sample_text = \"RegularExpressionIsAnImportantTopicPython\"\n",
    "output = re.findall('[A-Z][a-z]*',sample_text)\n",
    "print(' '.join((output)))"
   ]
  },
  {
   "cell_type": "code",
   "execution_count": 26,
   "id": "3412ab3b",
   "metadata": {},
   "outputs": [
    {
     "name": "stdout",
     "output_type": "stream",
     "text": [
      "Match found\n"
     ]
    }
   ],
   "source": [
    "import re\n",
    "def text_match(text):\n",
    "    patterns = '[A-Z]+[a-z]+$'\n",
    "    if re.search(patterns,text):\n",
    "        return(\"Match found\")\n",
    "    else:\n",
    "        return(\"Match not found\")\n",
    "print(text_match('Malti'))"
   ]
  },
  {
   "cell_type": "code",
   "execution_count": 27,
   "id": "40078fca",
   "metadata": {},
   "outputs": [
    {
     "name": "stdout",
     "output_type": "stream",
     "text": [
      "Hello hello world\n"
     ]
    }
   ],
   "source": [
    "import re\n",
    "sample_text = \"Hello hello world world\"\n",
    "pattern = r'\\b(\\w+)(?:\\W+\\1\\b)+'\n",
    "output = re.sub(pattern, r'\\1',sample_text)\n",
    "print(output)"
   ]
  },
  {
   "cell_type": "code",
   "execution_count": 28,
   "id": "2ccad3c5",
   "metadata": {},
   "outputs": [],
   "source": [
    "import re\n",
    "def check_string():\n",
    "    pattern = r\"\\w$\"\n",
    "    match = re.search(pattern,string)\n",
    "    if match:\n",
    "        return('True')\n",
    "    else:\n",
    "        return(\"False\")\n",
    "    string = input(\"Enter a string:\")\n",
    "    if check_string(input_string): \n",
    "        print(\"String ends with an alphanumeric character\")\n",
    "    else:\n",
    "        print(\"String does not end with an alphanumeric character\")"
   ]
  },
  {
   "cell_type": "code",
   "execution_count": 29,
   "id": "200c937c",
   "metadata": {},
   "outputs": [
    {
     "name": "stdout",
     "output_type": "stream",
     "text": [
      "['#Doltiwal', '#xyzabc', '#Demonetization']\n"
     ]
    }
   ],
   "source": [
    "import re\n",
    "def extract_hashtags(text):\n",
    "    hashtags = re.findall(r'#\\w+',text)\n",
    "    return hashtags\n",
    "text = \"\"\"RT@kapil_kaushik:#Doltiwal I mean #xyzabc is \"hurt\" by #Demonetization as the same has rendered USELESS<ed><U+OOAO><U+OOBD><ed><U+OOB1><U+OO89>\"acquired funds\"No wo\"\"\"\n",
    "hashtags = extract_hashtags(text)\n",
    "print(hashtags)"
   ]
  },
  {
   "cell_type": "code",
   "execution_count": 30,
   "id": "9fe276f3",
   "metadata": {},
   "outputs": [
    {
     "name": "stdout",
     "output_type": "stream",
     "text": [
      "@Jags123456 Bharat band on 28??<ed><ed> Those who are protesting #demonetization are all different party leaders\n"
     ]
    }
   ],
   "source": [
    "import re\n",
    "sample_text = \"@Jags123456 Bharat band on 28??<ed><U+OOAO><U+OOBD><ed><U+OOB8><U+OO82> Those who are protesting #demonetization are all different party leaders\"\n",
    "pattern = r\"<U\\+\\w{4}>\"\n",
    "output = re.sub(pattern,\"\",sample_text)\n",
    "print(output)"
   ]
  },
  {
   "cell_type": "code",
   "execution_count": 32,
   "id": "6f3095cb",
   "metadata": {},
   "outputs": [
    {
     "name": "stdout",
     "output_type": "stream",
     "text": [
      "followingexamplecreatesArrayListacapacityelements.4elementsaddedArrayListArrayListtrimmedaccordingly.\n"
     ]
    }
   ],
   "source": [
    "import re \n",
    "def remove_words(string):\n",
    "    words = string.split()\n",
    "    filtered_words = [word for word in words if not(2 <=len(word) <=4)]\n",
    "    return ''.join(filtered_words)\n",
    "string = \"The following example creates an ArrayList with a capacity of 50 elements. 4 elements are then added to the ArrayList and the ArrayList is trimmed accordingly.\"\n",
    "output = remove_words(string)\n",
    "print(output)"
   ]
  },
  {
   "cell_type": "code",
   "execution_count": null,
   "id": "41add445",
   "metadata": {},
   "outputs": [],
   "source": []
  }
 ],
 "metadata": {
  "kernelspec": {
   "display_name": "Python 3 (ipykernel)",
   "language": "python",
   "name": "python3"
  },
  "language_info": {
   "codemirror_mode": {
    "name": "ipython",
    "version": 3
   },
   "file_extension": ".py",
   "mimetype": "text/x-python",
   "name": "python",
   "nbconvert_exporter": "python",
   "pygments_lexer": "ipython3",
   "version": "3.11.5"
  }
 },
 "nbformat": 4,
 "nbformat_minor": 5
}
